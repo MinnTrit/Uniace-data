{
 "cells": [
  {
   "cell_type": "code",
   "execution_count": null,
   "metadata": {},
   "outputs": [],
   "source": [
    "import pandas as pd \n",
    "import numpy as np \n",
    "import re \n",
    "\n",
    "pd.set_option('display.max_rows', None)\n",
    "\n",
    "df = pd.read_excel(r'D:\\Data Intense\\Level 2\\Day6\\project\\Uniace_1_main.xlsx')\n",
    "\n",
    "email_pattern = r'([a-zA-Z0-9.*]+)(@.*)'\n",
    "\n",
    "df[['Email', 'Email Domain']] = df['Email'].str.extract(email_pattern, expand=False)\n",
    "\n",
    "university_pattern = r'\\@?(?:\\w+)?(?:[^a-zA-Z0-9]+)(.*)\\.edu' \n",
    "df['Email Domain Test'] = df['Email Domain'].str.extract(university_pattern, expand=False)\n",
    "\n",
    "df['Email Domain Test'].fillna(df['Email Domain'], inplace = True)\n",
    "\n",
    "\n",
    "referrer_pattern = r'https://(?:www\\.)?(.*)(?:\\.[a-zA-Z]+)'\n",
    "df['Test'] = df['MA Referrer'].str.extract(referrer_pattern, expand=False)\n",
    "df['Test'] = df['Test'].replace('google.com', 'google')\n",
    "# df.loc[:, ['MA Referrer', 'Test']].iloc[7800:8000]\n",
    "df.to_excel('Uniace_1_adjust.xlsx')"
   ]
  }
 ],
 "metadata": {
  "language_info": {
   "name": "python"
  }
 },
 "nbformat": 4,
 "nbformat_minor": 5
}
